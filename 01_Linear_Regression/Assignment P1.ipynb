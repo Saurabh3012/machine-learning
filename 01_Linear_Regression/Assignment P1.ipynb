{
 "cells": [
  {
   "cell_type": "markdown",
   "metadata": {},
   "source": [
    "## i (a)"
   ]
  },
  {
   "cell_type": "code",
   "execution_count": 1,
   "metadata": {},
   "outputs": [],
   "source": [
    "import numpy as np\n",
    "import matplotlib.pyplot as plt\n",
    "%matplotlib inline"
   ]
  },
  {
   "cell_type": "code",
   "execution_count": 2,
   "metadata": {},
   "outputs": [],
   "source": [
    "data = np.genfromtxt(\"./boston.csv\", dtype=np.float32, delimiter=\",\", names=True)"
   ]
  },
  {
   "cell_type": "code",
   "execution_count": 3,
   "metadata": {},
   "outputs": [],
   "source": [
    "x1 = np.array([i[0] for i in data])\n",
    "x2 = np.array([i[1] for i in data])\n",
    "x3 = np.array([i[2] for i in data])\n",
    "x4 = np.array([i[3] for i in data])\n",
    "x5 = np.array([i[4] for i in data])\n",
    "x6 = np.array([i[5] for i in data])\n",
    "x7 = np.array([i[6] for i in data])\n",
    "x8 = np.array([i[7] for i in data])\n",
    "x9 = np.array([i[8] for i in data])\n",
    "x10 = np.array([i[9] for i in data])\n",
    "x11 = np.array([i[10] for i in data])\n",
    "x12 = np.array([i[11] for i in data])\n",
    "x13 = np.array([i[12] for i in data])\n",
    "y = np.array([i[13] for i in data])"
   ]
  },
  {
   "cell_type": "code",
   "execution_count": 4,
   "metadata": {},
   "outputs": [],
   "source": [
    "x1 = (x1 - x1.mean())/np.std(x1)"
   ]
  },
  {
   "cell_type": "code",
   "execution_count": 5,
   "metadata": {},
   "outputs": [],
   "source": [
    "x2 = (x2 - x2.mean())/np.std(x2)\n",
    "x3 = (x3 - x3.mean())/np.std(x3)\n",
    "x4 = (x4 - x4.mean())/np.std(x4)\n",
    "x5 = (x5 - x5.mean())/np.std(x5)\n",
    "x6 = (x6 - x6.mean())/np.std(x6)\n",
    "x7 = (x7 - x7.mean())/np.std(x7)\n",
    "x8 = (x8 - x8.mean())/np.std(x8)\n",
    "x9 = (x9 - x9.mean())/np.std(x9)\n",
    "x10 = (x10 - x10.mean())/np.std(x10)\n",
    "x11 = (x11 - x11.mean())/np.std(x11)\n",
    "x12 = (x12 - x12.mean())/np.std(x12)\n",
    "x13 = (x13 - x13.mean())/np.std(x13)\n",
    "y = (y - y.mean())/np.std(y)"
   ]
  },
  {
   "cell_type": "markdown",
   "metadata": {},
   "source": [
    "# Generate 5-fold sample indices for dataset"
   ]
  },
  {
   "cell_type": "code",
   "execution_count": 6,
   "metadata": {},
   "outputs": [],
   "source": [
    "m = len(data)\n",
    "np.random.seed(6754)"
   ]
  },
  {
   "cell_type": "code",
   "execution_count": 7,
   "metadata": {},
   "outputs": [],
   "source": [
    "full_range = np.array([i for i in range(m)])\n",
    "validation_choose_set = [i for i in range(m)]"
   ]
  },
  {
   "cell_type": "code",
   "execution_count": 8,
   "metadata": {},
   "outputs": [],
   "source": [
    "validation_sample1 = np.random.choice(validation_choose_set, size=int(m/5))\n",
    "validation_choose_set = np.setdiff1d(validation_choose_set, validation_sample1)\n",
    "validation_sample2 = np.random.choice(validation_choose_set, size=int(m/5))\n",
    "validation_choose_set = np.setdiff1d(validation_choose_set, validation_sample2)\n",
    "validation_sample3 = np.random.choice(validation_choose_set, size=int(m/5))\n",
    "validation_choose_set = np.setdiff1d(validation_choose_set, validation_sample3)\n",
    "validation_sample4 = np.random.choice(validation_choose_set, size=int(m/5))\n",
    "validation_choose_set = np.setdiff1d(validation_choose_set, validation_sample4)"
   ]
  },
  {
   "cell_type": "code",
   "execution_count": 9,
   "metadata": {},
   "outputs": [
    {
     "data": {
      "text/plain": [
       "array([  0,   1,   3,   4,   5,   6,  10,  11,  16,  21,  31,  33,  34,\n",
       "        40,  41,  43,  46,  48,  49,  52,  53,  54,  55,  56,  58,  59,\n",
       "        60,  63,  65,  67,  68,  71,  72,  78,  79,  83,  84,  90,  95,\n",
       "        97,  99, 102, 106, 107, 108, 115, 117, 119, 120, 129, 131, 133,\n",
       "       135, 136, 138, 139, 143, 145, 146, 151, 157, 158, 159, 165, 170,\n",
       "       174, 175, 180, 186, 187, 190, 194, 196, 202, 210, 211, 212, 219,\n",
       "       220, 222, 232, 234, 238, 241, 248, 253, 256, 260, 261, 270, 272,\n",
       "       274, 276, 278, 282, 283, 287, 290, 291, 296, 297, 298, 301, 308,\n",
       "       310, 311, 312, 314, 321, 329, 338, 341, 355, 357, 361, 369, 373,\n",
       "       375, 385, 386, 391, 393, 402, 407, 408, 412, 416, 417, 418, 419,\n",
       "       423, 425, 429, 430, 431, 436, 441, 443, 450, 451, 454, 457, 459,\n",
       "       460, 468, 470, 472, 474, 475, 476, 478, 482, 485, 486, 488, 493,\n",
       "       500])"
      ]
     },
     "execution_count": 9,
     "metadata": {},
     "output_type": "execute_result"
    }
   ],
   "source": [
    "validation_sample5 = validation_choose_set[:]"
   ]
  },
  {
   "cell_type": "code",
   "execution_count": 10,
   "metadata": {},
   "outputs": [
    {
     "data": {
      "text/plain": [
       "array([[ 1.        , -0.41978195,  0.28482988, ..., -1.45900023,\n",
       "         0.44105175, -1.07556236],\n",
       "       [ 1.        , -0.4173393 , -0.48772237, ..., -0.30309463,\n",
       "         0.44105175, -0.49243939],\n",
       "       [ 1.        , -0.41734159, -0.48772237, ..., -0.30309463,\n",
       "         0.39642674, -1.20872748],\n",
       "       ...,\n",
       "       [ 1.        , -0.41344661, -0.48772237, ...,  1.17646551,\n",
       "         0.44105175, -0.98304766],\n",
       "       [ 1.        , -0.40776408, -0.48772237, ...,  1.17646551,\n",
       "         0.40322492, -0.86530167],\n",
       "       [ 1.        , -0.41500017, -0.48772237, ...,  1.17646551,\n",
       "         0.44105175, -0.66905838]])"
      ]
     },
     "execution_count": 10,
     "metadata": {},
     "output_type": "execute_result"
    }
   ],
   "source": [
    "X = np.column_stack((np.ones(len(x1)), x1, x2, x3, x4, x5, x6, x7, x8, x9, x10, x11, x12, x13))\n",
    "X"
   ]
  },
  {
   "cell_type": "code",
   "execution_count": 11,
   "metadata": {},
   "outputs": [
    {
     "data": {
      "text/plain": [
       "array([-0.7001304 ,  0.2032206 , -0.28654805,  0.2902907 , -0.330083  ,\n",
       "       -0.0688731 , -0.4171529 ,  0.06173196,  0.17056945, -1.3096204 ,\n",
       "       -0.7001304 , -0.6892466 , -1.0701779 ,  0.03996439, -0.8851542 ,\n",
       "       -0.9722241 , -0.4171529 , -0.30831543,  1.487503  , -1.5708302 ,\n",
       "        0.42089558, -1.3422716 , -0.03622173,  0.03996439, -0.31919923,\n",
       "        0.82359433, -0.02533814, -1.3096204 ,  1.3460144 ,  0.60591936,\n",
       "        1.0848043 ,  0.9324318 , -0.03622173, -0.23212932, -1.0157591 ,\n",
       "       -0.05798931,  0.17056945,  0.82359433,  0.0290806 , -0.4389205 ,\n",
       "       -0.64571166, -0.38450176, -0.17771058, -0.5804091 , -0.03622173,\n",
       "        0.08349933,  1.3460144 ,  0.26852313,  1.3460144 , -1.3422716 ,\n",
       "       -0.12329184,  2.9894602 ,  1.3460144 , -1.9082265 ,  0.09438313,\n",
       "       -1.0701779 , -0.23212932,  0.9324318 , -0.09064047, -1.0701779 ,\n",
       "       -0.05798931, -0.7110142 , -1.842924  ,  0.98685056, -0.83073545,\n",
       "       -0.22124553, -0.29743186,  0.3991282 ,  0.19233681,  1.0521531 ,\n",
       "       -1.5055279 , -0.75454915,  1.487503  , -0.02533814,  0.2032206 ,\n",
       "        1.0303855 ,  0.99773437, -0.23212932, -0.330083  ,  2.858855  ,\n",
       "        2.9894602 , -0.05798931, -0.547758  , -1.1790154 , -0.86338663,\n",
       "        0.19233681,  2.9894602 ,  0.98685056, -1.0919454 , -1.3205042 ,\n",
       "        1.5201542 ,  0.79094297,  0.17056945,  0.05084817, -0.5151068 ,\n",
       "        1.6398753 ,  2.9894602 , -0.28654805, -0.8089679 , -0.29743186,\n",
       "        0.07261576], dtype=float32)"
      ]
     },
     "execution_count": 11,
     "metadata": {},
     "output_type": "execute_result"
    }
   ],
   "source": [
    "y[validation_sample1]"
   ]
  },
  {
   "cell_type": "markdown",
   "metadata": {},
   "source": [
    "validation_sample1, x's, y, a"
   ]
  },
  {
   "cell_type": "code",
   "execution_count": 12,
   "metadata": {},
   "outputs": [],
   "source": [
    "def test_train_split(X, y, sample):\n",
    "    RANGE = len(X)\n",
    "    train_sample = np.setdiff1d(np.array([i for i in range(RANGE)]), sample)\n",
    "    test_sample = sample[:]\n",
    "    X_train = X[train_sample]\n",
    "    X_test = X[test_sample]\n",
    "    y_train = y[train_sample]\n",
    "    y_test = y[test_sample]\n",
    "    return X_train, X_test, y_train, y_test"
   ]
  },
  {
   "cell_type": "code",
   "execution_count": 13,
   "metadata": {},
   "outputs": [],
   "source": [
    "def input_func(X, y, theta, j):   \n",
    "    temp = np.zeros(len(X))\n",
    "    for i in range(len(theta)):\n",
    "        temp += theta[i]*X[:,i]\n",
    "        \n",
    "    return np.matmul((temp - y), X[:,j])"
   ]
  },
  {
   "cell_type": "code",
   "execution_count": 14,
   "metadata": {},
   "outputs": [],
   "source": [
    "def linear_regression(X_train, y_train, X_test, y_test, learning_rate=0.01):\n",
    "    \n",
    "    #init\n",
    "    n = len(X_train[0])\n",
    "    theta = np.array([1.5 for i in range(n)])\n",
    "    number_of_iterations = 0\n",
    "    train_error = []\n",
    "    valid_error = []\n",
    "    y_hat = np.zeros((len(y), 1))\n",
    "    err = 1000000\n",
    "    \n",
    "    #Gradient Descent\n",
    "    while True:\n",
    "#         print (\"==========\"*10)\n",
    "#         print (\"Iteration: \", number_of_iterations)\n",
    "\n",
    "        prev_theta = theta[:]\n",
    "\n",
    "#         print (\"Previous theta : \", prev_theta)\n",
    "        number_of_iterations += 1\n",
    "\n",
    "        # Updating all thetas simultaneously\n",
    "        for i in range(n):\n",
    "            theta[i] = theta[i] - (learning_rate/100.0)*input_func(X_train, y_train, theta, i)\n",
    "\n",
    "\n",
    "#         print(\"New theta_0 :\", theta)\n",
    "\n",
    "        # Training Error\n",
    "        y_hat = np.matmul(X_train, theta)\n",
    "        new_err = np.linalg.norm(y_hat-y_train)\n",
    "        train_error.append(new_err)\n",
    "#         print (\"Training Error: \", new_err)\n",
    "\n",
    "\n",
    "        # Validation error\n",
    "        y_hat_v = np.matmul(X_test, theta)\n",
    "        err_valid = np.linalg.norm(y_hat_v-y_test)\n",
    "        valid_error.append(err_valid)\n",
    "\n",
    "        if (err-new_err) <= 0.000001:\n",
    "            return train_error, valid_error, theta\n",
    "\n",
    "        err = new_err"
   ]
  },
  {
   "cell_type": "code",
   "execution_count": 15,
   "metadata": {},
   "outputs": [],
   "source": [
    "X_train, X_test, y_train, y_test = test_train_split(X, y, validation_sample1)\n",
    "learning_rate = 0.01\n",
    "train_error1, valid_error1, theta1 = linear_regression(X_train, y_train, X_test, y_test, learning_rate)"
   ]
  },
  {
   "cell_type": "code",
   "execution_count": 16,
   "metadata": {},
   "outputs": [
    {
     "data": {
      "text/plain": [
       "Text(0.5,1,'First Sample')"
      ]
     },
     "execution_count": 16,
     "metadata": {},
     "output_type": "execute_result"
    },
    {
     "data": {
      "image/png": "[encoded data removed]",
      "text/plain": [
       "<Figure size 432x288 with 1 Axes>"
      ]
     },
     "metadata": {},
     "output_type": "display_data"
    }
   ],
   "source": [
    "plt.plot([i for i in range(len(train_error1))], train_error1, label='Training error')\n",
    "plt.plot([i for i in range(len(valid_error1))], valid_error1, label='Validation error')\n",
    "plt.gca().legend(('Training error','Validation error'))\n",
    "plt.title('First Sample')"
   ]
  },
  {
   "cell_type": "code",
   "execution_count": 17,
   "metadata": {},
   "outputs": [],
   "source": [
    "X_train, X_test, y_train, y_test = test_train_split(X, y, validation_sample2)\n",
    "learning_rate = 0.01\n",
    "train_error2, valid_error2, theta2 = linear_regression(X_train, y_train, X_test, y_test, learning_rate)"
   ]
  },
  {
   "cell_type": "code",
   "execution_count": 18,
   "metadata": {},
   "outputs": [
    {
     "data": {
      "text/plain": [
       "Text(0.5,1,'Second Sample')"
      ]
     },
     "execution_count": 18,
     "metadata": {},
     "output_type": "execute_result"
    },
    {
     "data": {
      "image/png": "[encoded data removed]",
      "text/plain": [
       "<Figure size 432x288 with 1 Axes>"
      ]
     },
     "metadata": {},
     "output_type": "display_data"
    }
   ],
   "source": [
    "plt.plot([i for i in range(len(train_error2))], train_error2, label='Training error')\n",
    "plt.plot([i for i in range(len(valid_error2))], valid_error2, label='Validation error')\n",
    "plt.gca().legend(('Training error','Validation error'))\n",
    "plt.title('Second Sample')"
   ]
  },
  {
   "cell_type": "code",
   "execution_count": 19,
   "metadata": {},
   "outputs": [],
   "source": [
    "X_train, X_test, y_train, y_test = test_train_split(X, y, validation_sample3)\n",
    "learning_rate = 0.01\n",
    "train_error3, valid_error3, theta3 = linear_regression(X_train, y_train, X_test, y_test, learning_rate)"
   ]
  },
  {
   "cell_type": "code",
   "execution_count": 20,
   "metadata": {},
   "outputs": [
    {
     "data": {
      "text/plain": [
       "Text(0.5,1,'Second Sample')"
      ]
     },
     "execution_count": 20,
     "metadata": {},
     "output_type": "execute_result"
    },
    {
     "data": {
      "image/png": "[encoded data removed]",
      "text/plain": [
       "<Figure size 432x288 with 1 Axes>"
      ]
     },
     "metadata": {},
     "output_type": "display_data"
    }
   ],
   "source": [
    "plt.plot([i for i in range(len(train_error3))], train_error3, label='Training error')\n",
    "plt.plot([i for i in range(len(valid_error3))], valid_error3, label='Validation error')\n",
    "plt.gca().legend(('Training error','Validation error'))\n",
    "plt.title('Second Sample')"
   ]
  },
  {
   "cell_type": "code",
   "execution_count": 21,
   "metadata": {},
   "outputs": [],
   "source": [
    "X_train, X_test, y_train, y_test = test_train_split(X, y, validation_sample4)\n",
    "learning_rate = 0.01\n",
    "train_error4, valid_error4, theta4 = linear_regression(X_train, y_train, X_test, y_test, learning_rate)"
   ]
  },
  {
   "cell_type": "code",
   "execution_count": 22,
   "metadata": {},
   "outputs": [
    {
     "data": {
      "text/plain": [
       "Text(0.5,1,'Second Sample')"
      ]
     },
     "execution_count": 22,
     "metadata": {},
     "output_type": "execute_result"
    },
    {
     "data": {
      "image/png": "[encoded data removed]",
      "text/plain": [
       "<Figure size 432x288 with 1 Axes>"
      ]
     },
     "metadata": {},
     "output_type": "display_data"
    }
   ],
   "source": [
    "plt.plot([i for i in range(len(train_error4))], train_error4, label='Training error')\n",
    "plt.plot([i for i in range(len(valid_error4))], valid_error4, label='Validation error')\n",
    "plt.gca().legend(('Training error','Validation error'))\n",
    "plt.title('Second Sample')"
   ]
  },
  {
   "cell_type": "code",
   "execution_count": 23,
   "metadata": {},
   "outputs": [],
   "source": [
    "X_train, X_test, y_train, y_test = test_train_split(X, y, validation_sample5)\n",
    "learning_rate = 0.01\n",
    "train_error5, valid_error5, theta5 = linear_regression(X_train, y_train, X_test, y_test, learning_rate)"
   ]
  },
  {
   "cell_type": "code",
   "execution_count": 24,
   "metadata": {},
   "outputs": [
    {
     "data": {
      "text/plain": [
       "Text(0.5,1,'Second Sample')"
      ]
     },
     "execution_count": 24,
     "metadata": {},
     "output_type": "execute_result"
    },
    {
     "data": {
      "image/png": "[encoded data removed]",
      "text/plain": [
       "<Figure size 432x288 with 1 Axes>"
      ]
     },
     "metadata": {},
     "output_type": "display_data"
    }
   ],
   "source": [
    "plt.plot([i for i in range(len(train_error5))], train_error5, label='Training error')\n",
    "plt.plot([i for i in range(len(valid_error5))], valid_error5, label='Validation error')\n",
    "plt.gca().legend(('Training error','Validation error'))\n",
    "plt.title('Second Sample')"
   ]
  },
  {
   "cell_type": "markdown",
   "metadata": {},
   "source": [
    "## i (b)"
   ]
  },
  {
   "cell_type": "code",
   "execution_count": 26,
   "metadata": {},
   "outputs": [],
   "source": [
    "train_error1 = np.array(train_error1)\n",
    "valid_error1 = np.array(valid_error1)\n",
    "train_error2 = np.array(train_error2)\n",
    "valid_error2 = np.array(valid_error2)\n",
    "train_error3 = np.array(train_error3)\n",
    "valid_error3 = np.array(valid_error3)\n",
    "train_error4 = np.array(train_error4)\n",
    "valid_error4 = np.array(valid_error4)\n",
    "train_error5 = np.array(train_error5)\n",
    "valid_error5 = np.array(valid_error5)"
   ]
  },
  {
   "cell_type": "code",
   "execution_count": 29,
   "metadata": {},
   "outputs": [],
   "source": [
    "K = np.array([1, 2, 3, 4, 5])\n",
    "mean_train = np.array([train_error1.mean(), train_error2.mean(), train_error3.mean(), train_error4.mean(), train_error5.mean()])\n",
    "std_train = np.array([train_error1.std(), train_error2.std(), train_error3.std(), train_error4.std(), train_error5.std()])"
   ]
  },
  {
   "cell_type": "code",
   "execution_count": 34,
   "metadata": {},
   "outputs": [
    {
     "data": {
      "text/plain": [
       "<ErrorbarContainer object of 3 artists>"
      ]
     },
     "execution_count": 34,
     "metadata": {},
     "output_type": "execute_result"
    },
    {
     "data": {
      "image/png": "[encoded data removed]",
      "text/plain": [
       "<Figure size 432x288 with 1 Axes>"
      ]
     },
     "metadata": {},
     "output_type": "display_data"
    }
   ],
   "source": [
    "plt.errorbar(K, mean_train, std_train, linestyle='None', marker='^')"
   ]
  },
  {
   "cell_type": "code",
   "execution_count": 39,
   "metadata": {},
   "outputs": [
    {
     "name": "stdout",
     "output_type": "stream",
     "text": [
      "Training Sample\n",
      "For fold:  1   6.091921896977775  +-  4.922644576608693\n",
      "For fold:  2   7.5303973330175  +-  3.7470884962066378\n",
      "For fold:  3   6.914391875917295  +-  4.3825340163947875\n",
      "For fold:  4   6.312757020518233  +-  4.802564956627723\n",
      "For fold:  5   7.561540588564827  +-  5.988886875996788\n"
     ]
    }
   ],
   "source": [
    "print(\"Training Sample\")\n",
    "for i in K:\n",
    "    print(\"For fold: \", i, \" \", mean_train[i-1], \" +- \", std_train[i-1])"
   ]
  },
  {
   "cell_type": "code",
   "execution_count": 36,
   "metadata": {},
   "outputs": [],
   "source": [
    "mean_valid = np.array([valid_error1.mean(), valid_error2.mean(), valid_error3.mean(), valid_error4.mean(),valid_error5.mean()])\n",
    "std_valid = np.array([valid_error1.std(), valid_error2.std(), valid_error3.std(), valid_error4.std(), valid_error5.std()])"
   ]
  },
  {
   "cell_type": "code",
   "execution_count": 37,
   "metadata": {},
   "outputs": [
    {
     "data": {
      "text/plain": [
       "<ErrorbarContainer object of 3 artists>"
      ]
     },
     "execution_count": 37,
     "metadata": {},
     "output_type": "execute_result"
    },
    {
     "data": {
      "image/png": "[encoded data removed]",
      "text/plain": [
       "<Figure size 432x288 with 1 Axes>"
      ]
     },
     "metadata": {},
     "output_type": "display_data"
    }
   ],
   "source": [
    "plt.errorbar(K, mean_valid, std_valid, linestyle='None', marker='^')"
   ]
  },
  {
   "cell_type": "code",
   "execution_count": 40,
   "metadata": {},
   "outputs": [
    {
     "name": "stdout",
     "output_type": "stream",
     "text": [
      "Validation Sample\n",
      "For fold:  1   6.091921896977775  +-  4.922644576608693\n",
      "For fold:  2   7.5303973330175  +-  3.7470884962066378\n",
      "For fold:  3   6.914391875917295  +-  4.3825340163947875\n",
      "For fold:  4   6.312757020518233  +-  4.802564956627723\n",
      "For fold:  5   7.561540588564827  +-  5.988886875996788\n"
     ]
    }
   ],
   "source": [
    "print(\"Validation Sample\")\n",
    "for i in K:\n",
    "    print(\"For fold: \", i, \" \", mean_valid[i-1], \" +- \", std_valid[i-1])"
   ]
  },
  {
   "cell_type": "code",
   "execution_count": null,
   "metadata": {},
   "outputs": [],
   "source": []
  }
 ],
 "metadata": {
  "kernelspec": {
   "display_name": "tensorflow",
   "language": "python",
   "name": "tensorflow"
  },
  "language_info": {
   "codemirror_mode": {
    "name": "ipython",
    "version": 3
   },
   "file_extension": ".py",
   "mimetype": "text/x-python",
   "name": "python",
   "nbconvert_exporter": "python",
   "pygments_lexer": "ipython3",
   "version": "3.6.5"
  }
 },
 "nbformat": 4,
 "nbformat_minor": 2
}
